{
  "nbformat": 4,
  "nbformat_minor": 0,
  "metadata": {
    "colab": {
      "provenance": [],
      "toc_visible": true
    },
    "kernelspec": {
      "name": "python3",
      "display_name": "Python 3"
    },
    "language_info": {
      "name": "python"
    }
  },
  "cells": [
    {
      "cell_type": "code",
      "execution_count": 11,
      "metadata": {
        "colab": {
          "base_uri": "https://localhost:8080/"
        },
        "id": "vrruDB_Cvhgy",
        "outputId": "4af29fc5-dc62-4e36-c820-17aee730ceea"
      },
      "outputs": [
        {
          "output_type": "stream",
          "name": "stdout",
          "text": [
            "enter a number: 1\n",
            "enter a number: 2\n",
            "enter a number: 3\n",
            "enter a number: 4\n",
            "enter a number: 5\n",
            "[1, 2, 3, 4, 5]\n"
          ]
        }
      ],
      "source": [
        "a = []\n",
        "for i in range(5):\n",
        "    num = int(input(\"enter a number: \"))\n",
        "    a.append(num)\n",
        "print(a)\n"
      ]
    },
    {
      "cell_type": "code",
      "source": [
        "alpha = str(input(\"enter a character: \"))\n",
        "if alpha == \"A\" or alpha == \"E\" or alpha == \"I\" or alpha == \"O\" or alpha == \"U\":\n",
        "    alpha.lower()\n",
        "    print(\"vowel\")\n",
        "\n",
        "else:\n",
        "    if alpha == \"a\" or alpha == \"e\" or alpha == \"i\" or alpha == \"o\" or alpha == \"u\":\n",
        "        print(\"vowel\")\n",
        "    else:\n",
        "        print(\"consonant\")"
      ],
      "metadata": {
        "colab": {
          "base_uri": "https://localhost:8080/"
        },
        "id": "7sLqdsyzvkp2",
        "outputId": "f55356ad-0abf-4579-abbf-e4b6caf7e072"
      },
      "execution_count": 48,
      "outputs": [
        {
          "output_type": "stream",
          "name": "stdout",
          "text": [
            "enter a character: S\n",
            "consonant\n"
          ]
        }
      ]
    },
    {
      "cell_type": "code",
      "source": [
        "str_ = str(input(\"enter a string: \"))\n",
        "str_ = str_[::-1]\n",
        "print(str_)"
      ],
      "metadata": {
        "colab": {
          "base_uri": "https://localhost:8080/"
        },
        "id": "gPGaWn_40gUG",
        "outputId": "abf93373-cb7e-412a-94c5-133d24ff2424"
      },
      "execution_count": 44,
      "outputs": [
        {
          "output_type": "stream",
          "name": "stdout",
          "text": [
            "enter a string: salma\n",
            "amlas\n"
          ]
        }
      ]
    },
    {
      "cell_type": "code",
      "source": [
        "str__ = str(input(\"enter a string: \"))\n",
        "str1_ = str_[:len(str_)//2]\n",
        "str2_ = str_[len(str_)//2:]\n",
        "print(str1_)\n",
        "print(str2_)\n"
      ],
      "metadata": {
        "colab": {
          "base_uri": "https://localhost:8080/"
        },
        "id": "Ujzbwzil2S2A",
        "outputId": "a7f9671e-7570-4692-ef4b-de7599358dcd"
      },
      "execution_count": 52,
      "outputs": [
        {
          "output_type": "stream",
          "name": "stdout",
          "text": [
            "enter a string: SalmaSalma\n",
            "Salma\n",
            "Salma\n"
          ]
        }
      ]
    },
    {
      "cell_type": "code",
      "source": [
        "def Mult(num, string): # define the function 'Mult'\n",
        "    print(num*string)\n",
        "\n",
        "Mult(2, \" Salma Ahmed\") # call the function 'Mult'"
      ],
      "metadata": {
        "colab": {
          "base_uri": "https://localhost:8080/"
        },
        "id": "Is-c4ebJ4ebx",
        "outputId": "c0230c47-9661-429c-cea3-9a86bb3daf57"
      },
      "execution_count": 59,
      "outputs": [
        {
          "output_type": "stream",
          "name": "stdout",
          "text": [
            " Salma Ahmed Salma Ahmed\n"
          ]
        }
      ]
    },
    {
      "cell_type": "markdown",
      "source": [
        "# **count freq of words appearing in str using dictionary**"
      ],
      "metadata": {
        "id": "_glptfjC73I-"
      }
    },
    {
      "cell_type": "code",
      "source": [
        "str_ = str(input(\"enter a string: \"))\n",
        "str_ = str_.split()\n",
        "print(str_)\n",
        "dict = {}\n",
        "for i in str_:\n",
        "    if i in dict:\n",
        "        dict[i] += 1\n",
        "    else:\n",
        "        dict[i] = 1\n",
        "print(dict)\n"
      ],
      "metadata": {
        "colab": {
          "base_uri": "https://localhost:8080/"
        },
        "id": "5nim6Gr87-rj",
        "outputId": "7a2264a9-17c4-4c78-b0c1-89e9fdb4f0ee"
      },
      "execution_count": 79,
      "outputs": [
        {
          "output_type": "stream",
          "name": "stdout",
          "text": [
            "enter a string: salma ahmed abdulkader\n",
            "['salma', 'ahmed', 'abdulkader']\n",
            "{'salma': 1, 'ahmed': 1, 'abdulkader': 1}\n"
          ]
        }
      ]
    },
    {
      "cell_type": "markdown",
      "source": [
        "# **when number of args of function unknown**"
      ],
      "metadata": {
        "id": "nh3X_oxUBGJt"
      }
    },
    {
      "cell_type": "code",
      "source": [
        "def printAll(*args):\n",
        "    print(args)\n",
        "    print(len(args))\n",
        "    print(type(args))\n",
        "    print(list(args))\n",
        "\n",
        "printAll()\n",
        "print(\"\\n---------------------------\\n\")\n",
        "printAll(1,2,3,4,5,6,7,8,9,10)"
      ],
      "metadata": {
        "colab": {
          "base_uri": "https://localhost:8080/"
        },
        "id": "3tU4zz_d7-pS",
        "outputId": "451adfa2-ef5f-45a4-fb07-6c3dcd22eeb2"
      },
      "execution_count": 81,
      "outputs": [
        {
          "output_type": "stream",
          "name": "stdout",
          "text": [
            "()\n",
            "0\n",
            "<class 'tuple'>\n",
            "[]\n",
            "\n",
            "---------------------------\n",
            "\n",
            "(1, 2, 3, 4, 5, 6, 7, 8, 9, 10)\n",
            "10\n",
            "<class 'tuple'>\n",
            "[1, 2, 3, 4, 5, 6, 7, 8, 9, 10]\n"
          ]
        }
      ]
    },
    {
      "cell_type": "code",
      "source": [
        "def printAll(**args):\n",
        "    print(args)\n",
        "    print(len(args))\n",
        "    print(type(args))\n",
        "    print(list(args))\n",
        "    for key in args:\n",
        "        print(key, \" : \", args[key])\n",
        "printAll()\n",
        "print(\"\\n---------------------------\\n\")\n",
        "printAll(name = \"Salma\", age = 20, gender = \"female\")"
      ],
      "metadata": {
        "colab": {
          "base_uri": "https://localhost:8080/"
        },
        "id": "dCmTZR4t7-nV",
        "outputId": "fa02fc6b-26f1-44c5-cf2f-33c12719e452"
      },
      "execution_count": 83,
      "outputs": [
        {
          "output_type": "stream",
          "name": "stdout",
          "text": [
            "{}\n",
            "0\n",
            "<class 'dict'>\n",
            "[]\n",
            "\n",
            "---------------------------\n",
            "\n",
            "{'name': 'Salma', 'age': 20, 'gender': 'female'}\n",
            "3\n",
            "<class 'dict'>\n",
            "['name', 'age', 'gender']\n",
            "name  :  Salma\n",
            "age  :  20\n",
            "gender  :  female\n"
          ]
        }
      ]
    },
    {
      "cell_type": "code",
      "source": [
        "def printAll(*args):\n",
        "    print(args)\n",
        "    print(len(args))\n",
        "    print(type(args))\n",
        "    print(list(args))\n",
        "    sum = 0\n",
        "    if len(args) != 0:\n",
        "        for i in args:\n",
        "            sum += i\n",
        "        print(sum/len(args))\n",
        "printAll()\n",
        "print(\"\\n---------------------------\\n\")\n",
        "printAll(1,2,3,4,5,6,7,8,9,10)"
      ],
      "metadata": {
        "colab": {
          "base_uri": "https://localhost:8080/"
        },
        "id": "X3GYPExIDCrl",
        "outputId": "cc4bdef2-e709-4ddf-ec12-c06028a36af2"
      },
      "execution_count": 92,
      "outputs": [
        {
          "output_type": "stream",
          "name": "stdout",
          "text": [
            "()\n",
            "0\n",
            "<class 'tuple'>\n",
            "[]\n",
            "\n",
            "---------------------------\n",
            "\n",
            "(1, 2, 3, 4, 5, 6, 7, 8, 9, 10)\n",
            "10\n",
            "<class 'tuple'>\n",
            "[1, 2, 3, 4, 5, 6, 7, 8, 9, 10]\n",
            "5.5\n"
          ]
        }
      ]
    }
  ]
}